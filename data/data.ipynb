{
 "cells": [
  {
   "cell_type": "code",
   "execution_count": 1,
   "metadata": {},
   "outputs": [],
   "source": [
    "import numpy as np\n",
    "import pandas as pd\n",
    "import matplotlib.pyplot as plot\n",
    "from tqdm import trange,tqdm"
   ]
  },
  {
   "cell_type": "code",
   "execution_count": 2,
   "metadata": {},
   "outputs": [],
   "source": [
    "data = pd.read_csv(\"./2013-10 - Citi Bike trip data.csv\",sep=\",\")"
   ]
  },
  {
   "cell_type": "code",
   "execution_count": 13,
   "metadata": {},
   "outputs": [
    {
     "name": "stderr",
     "output_type": "stream",
     "text": [
      "100%|██████████| 1037712/1037712 [00:25<00:00, 40470.88it/s]\n"
     ]
    }
   ],
   "source": [
    "# 数据结构\n",
    "# # tripduration\n",
    "# # starttime\n",
    "# # stoptime\n",
    "# # start station id\n",
    "# # start station name\n",
    "# # start station latitude\n",
    "# # start station longitude\n",
    "# # end station id\n",
    "# # end station name\n",
    "# # end station latitude\n",
    "# # end station longitude\n",
    "# # bikeid\n",
    "# # usertype\n",
    "# # birth year\n",
    "# # gender\n",
    "\n",
    "node = {}\n",
    "edge = {}\n",
    "cnt = 1\n",
    "# 10月1日-10月31日 每个小时作为一个时间间隔\n",
    "outflow = [[{} for _ in range(0,24)]for _ in range(0,32)]\n",
    "inflow = [[{} for _ in range(0,24)]for _ in range(0,32)]\n",
    "\n",
    "for i in trange(0,len(data)):\n",
    "    startID = data[\"start station id\"][i]\n",
    "    endID = data[\"end station id\"][i]\n",
    "    # 添加节点\n",
    "    if startID not in node:\n",
    "        node[startID] = {\"lat\":data[\"start station latitude\"][i],\n",
    "                         \"lon\":data[\"start station longitude\"][i]}\n",
    "    \n",
    "    if endID not in node:\n",
    "        node[endID] = {\"lat\":data[\"end station latitude\"][i],\n",
    "                       \"lon\":data[\"end station longitude\"][i]}\n",
    "\n",
    "    # 添加边\n",
    "    edgeID = str(startID)+\":\"+str(endID)\n",
    "    if edgeID not in edge:\n",
    "        edge.update({edgeID:cnt})\n",
    "        cnt += 1 \n",
    "        \n",
    "    # 添加出流\n",
    "    flowID = str(startID)+\":\"+str(endID) \n",
    "    date = int(data[\"starttime\"][i].strip(\"\\\"\")[8:10])\n",
    "    time = int(data[\"starttime\"][i].strip(\"\\\"\")[11:13])\n",
    "    if flowID not in outflow[date][time]:\n",
    "        outflow[date][time][flowID] = 1\n",
    "    else:\n",
    "        outflow[date][time][flowID] += 1 \n",
    "        \n",
    "    # 添加入流\n",
    "    date = int(data[\"stoptime\"][i].strip(\"\\\"\")[8:10])\n",
    "    time = int(data[\"stoptime\"][i].strip(\"\\\"\")[11:13])\n",
    "    if flowID not in inflow[date][time]:\n",
    "        inflow[date][time][flowID] = 1\n",
    "    else:\n",
    "        inflow[date][time][flowID] += 1 \n",
    "        "
   ]
  },
  {
   "cell_type": "code",
   "execution_count": 14,
   "metadata": {},
   "outputs": [],
   "source": [
    "with open(\"./node.txt\",\"w\") as file:\n",
    "    for i in node:\n",
    "        file.writelines(\"{}\\t{}\\t{}\\n\".format(i,node[i][\"lat\"],node[i][\"lon\"]))"
   ]
  },
  {
   "cell_type": "code",
   "execution_count": 15,
   "metadata": {},
   "outputs": [],
   "source": [
    "with open(\"./edge.txt\",\"w\") as file:\n",
    "    for i in edge:\n",
    "        tmp = i.split(\":\")\n",
    "        file.writelines(\"{}\\t{}\\t{}\\n\".format(edge[i],tmp[0],tmp[1]))"
   ]
  },
  {
   "cell_type": "code",
   "execution_count": 18,
   "metadata": {},
   "outputs": [],
   "source": [
    "for i in range(1,len(inflow)):\n",
    "    for j in range(0,24):\n",
    "        with open(\"./flow/flow_{}_{}.txt\".format(i,j),\"w\") as file:\n",
    "            for k in inflow[i][j]:\n",
    "                IDs = k.split(\":\")\n",
    "                file.writelines(\"0\\t{}\\t{}\\t{}\\t{}\\t{}\\t{}\\t{}\\t{}\\t{}\\n\".format(j,edge[k],IDs[0],node[int(IDs[0])][\"lat\"],node[int(IDs[0])][\"lon\"],\n",
    "                                                                                 IDs[1],node[int(IDs[1])][\"lat\"],node[int(IDs[1])][\"lon\"],inflow[i][j][k]))\n",
    "            for k in outflow[i][j]:\n",
    "                IDs = k.split(\":\")\n",
    "                file.writelines(\"0\\t{}\\t{}\\t{}\\t{}\\t{}\\t{}\\t{}\\t{}\\t{}\\n\".format(j,edge[k],IDs[0],node[int(IDs[0])][\"lat\"],node[int(IDs[0])][\"lon\"],\n",
    "                                                                                 IDs[1],node[int(IDs[1])][\"lat\"],node[int(IDs[1])][\"lon\"],outflow[i][j][k]))\n",
    "            \n",
    "                "
   ]
  },
  {
   "cell_type": "code",
   "execution_count": 8,
   "metadata": {},
   "outputs": [
    {
     "data": {
      "image/png": "[encoded data removed]",
      "text/plain": [
       "<Figure size 640x480 with 1 Axes>"
      ]
     },
     "metadata": {},
     "output_type": "display_data"
    }
   ],
   "source": [
    "lat = [node[i][\"lat\"] for i in node]\n",
    "lon = [node[i][\"lon\"] for i in node]\n",
    "\n",
    "plot.scatter(lat,lon,1)\n",
    "plot.show()"
   ]
  }
 ],
 "metadata": {
  "kernelspec": {
   "display_name": "Python 3.8.15 ('pytorch')",
   "language": "python",
   "name": "python3"
  },
  "language_info": {
   "codemirror_mode": {
    "name": "ipython",
    "version": 3
   },
   "file_extension": ".py",
   "mimetype": "text/x-python",
   "name": "python",
   "nbconvert_exporter": "python",
   "pygments_lexer": "ipython3",
   "version": "3.8.15"
  },
  "orig_nbformat": 4,
  "vscode": {
   "interpreter": {
    "hash": "bc817f259ebb91552299aebe27005097b9d036240a4d8ecdc1fba7e172c2d382"
   }
  }
 },
 "nbformat": 4,
 "nbformat_minor": 2
}
